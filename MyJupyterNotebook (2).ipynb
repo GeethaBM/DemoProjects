{
 "cells": [
  {
   "cell_type": "code",
   "execution_count": 3,
   "id": "2f2f113d",
   "metadata": {},
   "outputs": [
    {
     "name": "stdout",
     "output_type": "stream",
     "text": [
      "Hello world\n"
     ]
    }
   ],
   "source": [
    "print('Hello world')"
   ]
  },
  {
   "cell_type": "code",
   "execution_count": 4,
   "id": "145295da",
   "metadata": {},
   "outputs": [
    {
     "name": "stdout",
     "output_type": "stream",
     "text": [
      "Hello world\n"
     ]
    }
   ],
   "source": [
    "print('Hello world')"
   ]
  },
  {
   "cell_type": "code",
   "execution_count": 7,
   "id": "ff2dcd22",
   "metadata": {},
   "outputs": [
    {
     "name": "stdout",
     "output_type": "stream",
     "text": [
      "15\n"
     ]
    }
   ],
   "source": [
    "var=15\n",
    "print(var)"
   ]
  },
  {
   "cell_type": "code",
   "execution_count": 8,
   "id": "0ee2188a",
   "metadata": {},
   "outputs": [
    {
     "name": "stdout",
     "output_type": "stream",
     "text": [
      "<class 'int'>\n"
     ]
    }
   ],
   "source": [
    "print(type(var))"
   ]
  },
  {
   "cell_type": "code",
   "execution_count": 10,
   "id": "f83dca8b",
   "metadata": {},
   "outputs": [
    {
     "name": "stdout",
     "output_type": "stream",
     "text": [
      "geetha\n"
     ]
    }
   ],
   "source": [
    "var='geetha'\n",
    "print(var)"
   ]
  },
  {
   "cell_type": "code",
   "execution_count": 12,
   "id": "6957f18d",
   "metadata": {},
   "outputs": [
    {
     "name": "stdout",
     "output_type": "stream",
     "text": [
      "<class 'str'>\n"
     ]
    }
   ],
   "source": [
    "print(type(var))"
   ]
  },
  {
   "cell_type": "code",
   "execution_count": 15,
   "id": "be676408",
   "metadata": {},
   "outputs": [
    {
     "ename": "NameError",
     "evalue": "name 'geetha' is not defined",
     "output_type": "error",
     "traceback": [
      "\u001b[1;31m---------------------------------------------------------------------------\u001b[0m",
      "\u001b[1;31mNameError\u001b[0m                                 Traceback (most recent call last)",
      "\u001b[1;32m~\\AppData\\Local\\Temp/ipykernel_5144/595116380.py\u001b[0m in \u001b[0;36m<module>\u001b[1;34m\u001b[0m\n\u001b[1;32m----> 1\u001b[1;33m \u001b[0mvar\u001b[0m\u001b[1;33m=\u001b[0m\u001b[0mgeetha\u001b[0m\u001b[1;33m\u001b[0m\u001b[1;33m\u001b[0m\u001b[0m\n\u001b[0m",
      "\u001b[1;31mNameError\u001b[0m: name 'geetha' is not defined"
     ]
    }
   ],
   "source": [
    "var=geetha"
   ]
  },
  {
   "cell_type": "code",
   "execution_count": 16,
   "id": "41a8bd06",
   "metadata": {},
   "outputs": [
    {
     "name": "stdout",
     "output_type": "stream",
     "text": [
      "15\n"
     ]
    }
   ],
   "source": [
    "x=5\n",
    "y=10\n",
    "print(x+y)"
   ]
  },
  {
   "cell_type": "code",
   "execution_count": 17,
   "id": "fd227358",
   "metadata": {},
   "outputs": [
    {
     "name": "stdout",
     "output_type": "stream",
     "text": [
      "15\n"
     ]
    }
   ],
   "source": [
    "sum=x+y\n",
    "print(sum)"
   ]
  },
  {
   "cell_type": "code",
   "execution_count": 18,
   "id": "588bd0df",
   "metadata": {},
   "outputs": [
    {
     "name": "stdout",
     "output_type": "stream",
     "text": [
      "sum is= 15\n"
     ]
    }
   ],
   "source": [
    "print('sum is=',sum)"
   ]
  },
  {
   "cell_type": "code",
   "execution_count": 19,
   "id": "3a1a9bd5",
   "metadata": {},
   "outputs": [
    {
     "name": "stdout",
     "output_type": "stream",
     "text": [
      "<class 'int'>\n"
     ]
    }
   ],
   "source": [
    "print(type(x))"
   ]
  },
  {
   "cell_type": "code",
   "execution_count": 22,
   "id": "020602b3",
   "metadata": {},
   "outputs": [
    {
     "name": "stdout",
     "output_type": "stream",
     "text": [
      "sum= 15\n"
     ]
    }
   ],
   "source": [
    "print('sum=' ,x+y)"
   ]
  },
  {
   "cell_type": "code",
   "execution_count": 3,
   "id": "7268a0a1",
   "metadata": {},
   "outputs": [
    {
     "name": "stdout",
     "output_type": "stream",
     "text": [
      "DayDayDayDayDay\n"
     ]
    }
   ],
   "source": [
    "print('Day' * 5)"
   ]
  },
  {
   "cell_type": "code",
   "execution_count": 4,
   "id": "eb990e35",
   "metadata": {},
   "outputs": [
    {
     "ename": "TypeError",
     "evalue": "can only concatenate str (not \"int\") to str",
     "output_type": "error",
     "traceback": [
      "\u001b[1;31m---------------------------------------------------------------------------\u001b[0m",
      "\u001b[1;31mTypeError\u001b[0m                                 Traceback (most recent call last)",
      "\u001b[1;32m~\\AppData\\Local\\Temp/ipykernel_10680/1157350539.py\u001b[0m in \u001b[0;36m<module>\u001b[1;34m\u001b[0m\n\u001b[1;32m----> 1\u001b[1;33m \u001b[0mprint\u001b[0m \u001b[1;33m(\u001b[0m\u001b[1;34m'Day'\u001b[0m \u001b[1;33m+\u001b[0m \u001b[1;36m2\u001b[0m\u001b[1;33m)\u001b[0m\u001b[1;33m\u001b[0m\u001b[1;33m\u001b[0m\u001b[0m\n\u001b[0m",
      "\u001b[1;31mTypeError\u001b[0m: can only concatenate str (not \"int\") to str"
     ]
    }
   ],
   "source": [
    "print ('Day' + 2)"
   ]
  },
  {
   "cell_type": "code",
   "execution_count": 7,
   "id": "a81911c3",
   "metadata": {
    "scrolled": true
   },
   "outputs": [
    {
     "name": "stdout",
     "output_type": "stream",
     "text": [
      "Day 2\n"
     ]
    }
   ],
   "source": [
    "#print (int('Day') + 2)\n",
    "\n",
    "print ('Day ' + str(2))"
   ]
  },
  {
   "cell_type": "code",
   "execution_count": 9,
   "id": "cdd98353",
   "metadata": {},
   "outputs": [
    {
     "name": "stdout",
     "output_type": "stream",
     "text": [
      "Day 2\n"
     ]
    }
   ],
   "source": [
    "print ('Day 2')"
   ]
  },
  {
   "cell_type": "code",
   "execution_count": 10,
   "id": "e20764b1",
   "metadata": {},
   "outputs": [],
   "source": [
    "\n",
    "my_dict ={'key1':'value1','key2':'value2'}"
   ]
  },
  {
   "cell_type": "code",
   "execution_count": 11,
   "id": "7ab8e702",
   "metadata": {},
   "outputs": [
    {
     "data": {
      "text/plain": [
       "{'key1': 'value1', 'key2': 'value2'}"
      ]
     },
     "execution_count": 11,
     "metadata": {},
     "output_type": "execute_result"
    }
   ],
   "source": [
    "my_dict"
   ]
  },
  {
   "cell_type": "code",
   "execution_count": 12,
   "id": "21604a36",
   "metadata": {},
   "outputs": [],
   "source": [
    "my_dict = {'Roll number':123,'Marks':[12,23,33],'Subject':['Computer','Science','Maths']}"
   ]
  },
  {
   "cell_type": "code",
   "execution_count": 13,
   "id": "a0a87773",
   "metadata": {},
   "outputs": [
    {
     "data": {
      "text/plain": [
       "['Computer', 'Science', 'Maths']"
      ]
     },
     "execution_count": 13,
     "metadata": {},
     "output_type": "execute_result"
    }
   ],
   "source": [
    "#Let's call items from the dictionary\n",
    "my_dict['Subject']"
   ]
  },
  {
   "cell_type": "code",
   "execution_count": 14,
   "id": "a29a2983",
   "metadata": {},
   "outputs": [
    {
     "data": {
      "text/plain": [
       "'Maths'"
      ]
     },
     "execution_count": 14,
     "metadata": {},
     "output_type": "execute_result"
    }
   ],
   "source": [
    "#Can call an index on that value\n",
    "my_dict['Subject'][2]"
   ]
  },
  {
   "cell_type": "code",
   "execution_count": 15,
   "id": "3beb9101",
   "metadata": {},
   "outputs": [
    {
     "data": {
      "text/plain": [
       "'Computer'"
      ]
     },
     "execution_count": 15,
     "metadata": {},
     "output_type": "execute_result"
    }
   ],
   "source": [
    "#Can then even call methods on that value\n",
    "my_dict['Subject'][0]"
   ]
  },
  {
   "cell_type": "code",
   "execution_count": 16,
   "id": "b5f836b3",
   "metadata": {},
   "outputs": [],
   "source": [
    "#add marks to the first element\n",
    "my_dict['Marks'][0] = my_dict['Marks'][0] + 30"
   ]
  },
  {
   "cell_type": "code",
   "execution_count": 17,
   "id": "7a415a30",
   "metadata": {},
   "outputs": [
    {
     "data": {
      "text/plain": [
       "[42, 23, 33]"
      ]
     },
     "execution_count": 17,
     "metadata": {},
     "output_type": "execute_result"
    }
   ],
   "source": [
    "#check\n",
    "my_dict['Marks']"
   ]
  },
  {
   "cell_type": "code",
   "execution_count": 18,
   "id": "5b3a1676",
   "metadata": {},
   "outputs": [],
   "source": [
    "# Another way of adding\n",
    "my_dict['Marks'][2] += 20"
   ]
  },
  {
   "cell_type": "code",
   "execution_count": 19,
   "id": "aad94a2a",
   "metadata": {},
   "outputs": [
    {
     "data": {
      "text/plain": [
       "[42, 23, 53]"
      ]
     },
     "execution_count": 19,
     "metadata": {},
     "output_type": "execute_result"
    }
   ],
   "source": [
    "my_dict['Marks']"
   ]
  },
  {
   "cell_type": "code",
   "execution_count": 21,
   "id": "2c758ed0",
   "metadata": {},
   "outputs": [],
   "source": [
    "#add new key\n",
    "my_dict['year'] = '3rd'"
   ]
  },
  {
   "cell_type": "code",
   "execution_count": 22,
   "id": "2c35796e",
   "metadata": {},
   "outputs": [
    {
     "data": {
      "text/plain": [
       "{'Roll number': 123,\n",
       " 'Marks': [42, 23, 53],\n",
       " 'Subject': ['Computer', 'Science', 'Maths'],\n",
       " 'year': '3rd'}"
      ]
     },
     "execution_count": 22,
     "metadata": {},
     "output_type": "execute_result"
    }
   ],
   "source": [
    "my_dict"
   ]
  },
  {
   "cell_type": "code",
   "execution_count": 25,
   "id": "d5278565",
   "metadata": {},
   "outputs": [],
   "source": [
    "#update value\n",
    "my_dict.update({'Roll_number':100})"
   ]
  },
  {
   "cell_type": "code",
   "execution_count": 26,
   "id": "72c43ccf",
   "metadata": {},
   "outputs": [
    {
     "data": {
      "text/plain": [
       "{'Roll number': 123,\n",
       " 'Marks': [42, 23, 53],\n",
       " 'Subject': ['Computer', 'Science', 'Maths'],\n",
       " 'year': '3rd',\n",
       " 'Roll_number': 100}"
      ]
     },
     "execution_count": 26,
     "metadata": {},
     "output_type": "execute_result"
    }
   ],
   "source": [
    "my_dict"
   ]
  },
  {
   "cell_type": "code",
   "execution_count": 28,
   "id": "c6df6209",
   "metadata": {},
   "outputs": [
    {
     "name": "stdout",
     "output_type": "stream",
     "text": [
      "It is less than 10\n"
     ]
    }
   ],
   "source": [
    "i = 8\n",
    "\n",
    "if i < 10:\n",
    "\n",
    "   print('It is less than 10')\n",
    "    \n",
    "else:\n",
    "    print('It is something else')\n",
    "    "
   ]
  },
  {
   "cell_type": "code",
   "execution_count": 29,
   "id": "d24f540a",
   "metadata": {},
   "outputs": [
    {
     "ename": "IndentationError",
     "evalue": "expected an indented block (Temp/ipykernel_10680/2838814081.py, line 8)",
     "output_type": "error",
     "traceback": [
      "\u001b[1;36m  File \u001b[1;32m\"C:\\Users\\Geetha\\AppData\\Local\\Temp/ipykernel_10680/2838814081.py\"\u001b[1;36m, line \u001b[1;32m8\u001b[0m\n\u001b[1;33m    \u001b[0m\n\u001b[1;37m    ^\u001b[0m\n\u001b[1;31mIndentationError\u001b[0m\u001b[1;31m:\u001b[0m expected an indented block\n"
     ]
    }
   ],
   "source": [
    "item_1 = 200\n",
    "\n",
    "item_2 = 200\n",
    "\n",
    "if (item_1 + item_2) >= 500:\n",
    "    \n",
    "    \n",
    "    "
   ]
  },
  {
   "cell_type": "code",
   "execution_count": 30,
   "id": "fd922c2b",
   "metadata": {},
   "outputs": [
    {
     "name": "stdout",
     "output_type": "stream",
     "text": [
      "Both are not True\n"
     ]
    }
   ],
   "source": [
    "a = 200\n",
    "\n",
    "b = 33\n",
    "\n",
    "c = 500\n",
    "\n",
    "if a > b and c < a:\n",
    "    print('Both conditions are True')\n",
    "else:\n",
    "    print('Both are not True')"
   ]
  },
  {
   "cell_type": "code",
   "execution_count": 32,
   "id": "6bc933c2",
   "metadata": {},
   "outputs": [
    {
     "name": "stdout",
     "output_type": "stream",
     "text": [
      "At least one of the conditions is True\n"
     ]
    }
   ],
   "source": [
    "a = 200\n",
    "\n",
    "b = 33\n",
    "\n",
    "c = 500\n",
    "\n",
    "if a > b or c < a:\n",
    "    print('At least one of the conditions is True')\n",
    "    "
   ]
  },
  {
   "cell_type": "code",
   "execution_count": null,
   "id": "82d0b82a",
   "metadata": {},
   "outputs": [],
   "source": [
    "marks + 48"
   ]
  }
 ],
 "metadata": {
  "kernelspec": {
   "display_name": "Python 3 (ipykernel)",
   "language": "python",
   "name": "python3"
  },
  "language_info": {
   "codemirror_mode": {
    "name": "ipython",
    "version": 3
   },
   "file_extension": ".py",
   "mimetype": "text/x-python",
   "name": "python",
   "nbconvert_exporter": "python",
   "pygments_lexer": "ipython3",
   "version": "3.9.7"
  }
 },
 "nbformat": 4,
 "nbformat_minor": 5
}
